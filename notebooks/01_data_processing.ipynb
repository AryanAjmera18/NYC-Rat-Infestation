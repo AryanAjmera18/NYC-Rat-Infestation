{
 "cells": [
  {
   "cell_type": "code",
   "execution_count": null,
   "id": "8c625bd5",
   "metadata": {},
   "outputs": [],
   "source": [
    "# 01 Data Processing\n",
    "from src.etl.process_rodent_data import process"
   ]
  },
  {
   "cell_type": "code",
   "execution_count": null,
   "id": "74826fc1",
   "metadata": {},
   "outputs": [],
   "source": [
    "# run ETL\n",
    "process('data/raw/rodent_inspections.csv', 'data/processed/rodent_inspections.parquet')"
   ]
  },
  {
   "cell_type": "code",
   "execution_count": null,
   "id": "95ad4302",
   "metadata": {},
   "outputs": [],
   "source": [
    "# verify\n",
    "from pyspark.sql import SparkSession\n",
    "spark = SparkSession.builder.appName(\"Verify\").getOrCreate()\n",
    "df = spark.read.parquet('data/processed/rodent_inspections.parquet')\n",
    "print(df.printSchema())\n",
    "print(df.count(), 'rows')\n",
    "print(df.select('year','BOROUGH').distinct().show())"
   ]
  },
  {
   "cell_type": "code",
   "execution_count": null,
   "id": "5511022c",
   "metadata": {},
   "outputs": [],
   "source": [
    "# QC: nulls per column\n",
    "import pandas as pd\n",
    "pdf = df.toPandas()\n",
    "print(pdf.isnull().sum())\n",
    "spark.stop()"
   ]
  }
 ],
 "metadata": {
  "kernelspec": {
   "display_name": "Python 3",
   "language": "python",
   "name": "python3"
  },
  "language_info": {
   "name": "python",
   "version": "3.13.3"
  }
 },
 "nbformat": 4,
 "nbformat_minor": 5
}
