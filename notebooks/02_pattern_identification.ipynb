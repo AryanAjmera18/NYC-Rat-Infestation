{
 "cells": [
  {
   "cell_type": "code",
   "execution_count": null,
   "id": "d65bc3d1",
   "metadata": {},
   "outputs": [],
   "source": [
    "# 02 Pattern Identification\n",
    "from src.analysis.pattern_analysis import temporal_trends, borough_hotspots"
   ]
  },
  {
   "cell_type": "code",
   "execution_count": null,
   "id": "6228d07b",
   "metadata": {},
   "outputs": [],
   "source": [
    "# temporal\n",
    "tt = temporal_trends().toPandas()\n",
    "print(tt.head())"
   ]
  },
  {
   "cell_type": "code",
   "execution_count": null,
   "id": "66e9528b",
   "metadata": {},
   "outputs": [],
   "source": [
    "# plot via seaborn\n",
    "import seaborn as sns; sns.lineplot(data=tt, x='month', y='total_inspections', hue='year')"
   ]
  },
  {
   "cell_type": "code",
   "execution_count": null,
   "id": "9841eaff",
   "metadata": {},
   "outputs": [],
   "source": [
    "# hotspots\n",
    "bh = borough_hotspots().toPandas()\n",
    "print(bh)"
   ]
  },
  {
   "cell_type": "code",
   "execution_count": null,
   "id": "d4bc693c",
   "metadata": {},
   "outputs": [],
   "source": [
    "# bar plot\n",
    "sns.barplot(data=bh, y='BOROUGH', x='rat_signs')"
   ]
  }
 ],
 "metadata": {
  "language_info": {
   "name": "python"
  }
 },
 "nbformat": 4,
 "nbformat_minor": 5
}
