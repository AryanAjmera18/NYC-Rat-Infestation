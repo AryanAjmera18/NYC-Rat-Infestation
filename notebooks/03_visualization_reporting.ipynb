{
 "cells": [
  {
   "cell_type": "code",
   "execution_count": null,
   "id": "8e3ce3bb",
   "metadata": {},
   "outputs": [],
   "source": [
    "# 03 Visualization & Reporting\n",
    "import pandas as pd\n",
    "import matplotlib.pyplot as plt\n",
    "import seaborn as sns\n",
    "import folium\n",
    "from folium.plugins import HeatMap"
   ]
  },
  {
   "cell_type": "code",
   "execution_count": null,
   "id": "ff7da697",
   "metadata": {},
   "outputs": [],
   "source": [
    "# load data\n",
    "df = pd.read_parquet('data/processed/rodent_inspections.parquet')"
   ]
  },
  {
   "cell_type": "code",
   "execution_count": null,
   "id": "2d321d1a",
   "metadata": {},
   "outputs": [],
   "source": [
    "# static: yearly trend\n",
    "yearly = df.year.value_counts().sort_index()\n",
    "yearly.plot(kind='line')\n",
    "plt.title('Inspections per Year')\n",
    "plt.show()"
   ]
  },
  {
   "cell_type": "code",
   "execution_count": null,
   "id": "f73ed8db",
   "metadata": {},
   "outputs": [],
   "source": [
    "# static: result breakdown\n",
    "sns.countplot(data=df, y='RESULT')\n",
    "plt.show()"
   ]
  },
  {
   "cell_type": "code",
   "execution_count": null,
   "id": "c61b340f",
   "metadata": {},
   "outputs": [],
   "source": [
    "# interactive map\n",
    "m = folium.Map([40.7128,-74.0060], zoom_start=11)\n",
    "HeatMap(df[['LATITUDE','LONGITUDE']].dropna().values.tolist()).add_to(m)\n",
    "m"
   ]
  }
 ],
 "metadata": {
  "language_info": {
   "name": "python"
  }
 },
 "nbformat": 4,
 "nbformat_minor": 5
}
